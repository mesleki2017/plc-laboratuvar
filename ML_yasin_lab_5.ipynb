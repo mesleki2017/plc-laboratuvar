{
  "nbformat": 4,
  "nbformat_minor": 0,
  "metadata": {
    "colab": {
      "name": "ML-yasin-lab-5.ipynb",
      "provenance": [],
      "collapsed_sections": [],
      "include_colab_link": true
    },
    "kernelspec": {
      "name": "python3",
      "display_name": "Python 3"
    },
    "language_info": {
      "name": "python"
    }
  },
  "cells": [
    {
      "cell_type": "markdown",
      "metadata": {
        "id": "view-in-github",
        "colab_type": "text"
      },
      "source": [
        "<a href=\"https://colab.research.google.com/github/mesleki2017/plc-laboratuvar/blob/master/ML_yasin_lab_5.ipynb\" target=\"_parent\"><img src=\"https://colab.research.google.com/assets/colab-badge.svg\" alt=\"Open In Colab\"/></a>"
      ]
    },
    {
      "cell_type": "code",
      "metadata": {
        "id": "E7ufPfeguFMH"
      },
      "source": [
        "from sklearn.preprocessing import OrdinalEncoder\n",
        "from sklearn.compose import ColumnTransformer\n",
        "from sklearn.pipeline import Pipeline\n",
        "from sklearn.preprocessing import StandardScaler\n",
        "from sklearn.preprocessing import OneHotEncoder\n",
        "from sklearn.impute import SimpleImputer\n",
        "from sklearn.model_selection import train_test_split\n",
        "from sklearn.model_selection import cross_val_score\n",
        "from sklearn.metrics import mean_squared_error\n",
        "from sklearn.model_selection import StratifiedShuffleSplit\n",
        "import numpy as np"
      ],
      "execution_count": null,
      "outputs": []
    },
    {
      "cell_type": "code",
      "metadata": {
        "id": "sqiDV3E2Rbkq",
        "colab": {
          "base_uri": "https://localhost:8080/"
        },
        "outputId": "42515cab-02fe-45a2-db34-e5bde5afb4b0"
      },
      "source": [
        "from google.colab import drive \n",
        "drive.mount('/content/gdrive')"
      ],
      "execution_count": null,
      "outputs": [
        {
          "output_type": "stream",
          "name": "stdout",
          "text": [
            "Mounted at /content/gdrive\n"
          ]
        }
      ]
    },
    {
      "cell_type": "code",
      "metadata": {
        "id": "fbu9bsNJRrzb",
        "colab": {
          "base_uri": "https://localhost:8080/",
          "height": 330
        },
        "outputId": "978b3e42-18b4-4b3f-fce4-6bcbb881225a"
      },
      "source": [
        "import pandas as pd \n",
        "df=pd.read_csv('/content/gdrive/My Drive/Colab Notebooks/data/yasin-lab-veri/5-cycle-calisma-akim.csv',sep=',')\n",
        "df.head()"
      ],
      "execution_count": null,
      "outputs": [
        {
          "output_type": "execute_result",
          "data": {
            "text/html": [
              "<div>\n",
              "<style scoped>\n",
              "    .dataframe tbody tr th:only-of-type {\n",
              "        vertical-align: middle;\n",
              "    }\n",
              "\n",
              "    .dataframe tbody tr th {\n",
              "        vertical-align: top;\n",
              "    }\n",
              "\n",
              "    .dataframe thead th {\n",
              "        text-align: right;\n",
              "    }\n",
              "</style>\n",
              "<table border=\"1\" class=\"dataframe\">\n",
              "  <thead>\n",
              "    <tr style=\"text-align: right;\">\n",
              "      <th></th>\n",
              "      <th>SeqNo</th>\n",
              "      <th>Date</th>\n",
              "      <th>UTC Time</th>\n",
              "      <th>sicaklik</th>\n",
              "      <th>basinc</th>\n",
              "      <th>titresim</th>\n",
              "      <th>araba-geride</th>\n",
              "      <th>araba-ileride</th>\n",
              "      <th>cene-acik</th>\n",
              "      <th>cene-kapali</th>\n",
              "      <th>devirme-yukarida</th>\n",
              "      <th>devirme-asagida</th>\n",
              "      <th>kaldirici-asagida</th>\n",
              "      <th>kaldirci-yukarida</th>\n",
              "      <th>kaldiriciyukari</th>\n",
              "      <th>kadiriciasagi</th>\n",
              "      <th>arabaileri</th>\n",
              "      <th>arabageri</th>\n",
              "      <th>cenekapa</th>\n",
              "      <th>ceneac</th>\n",
              "      <th>devirmeyukari</th>\n",
              "      <th>devirmeasagi</th>\n",
              "      <th>akim</th>\n",
              "    </tr>\n",
              "  </thead>\n",
              "  <tbody>\n",
              "    <tr>\n",
              "      <th>0</th>\n",
              "      <td>1</td>\n",
              "      <td>2021-08-31</td>\n",
              "      <td>15:34:01.426</td>\n",
              "      <td>312.0</td>\n",
              "      <td>1059.0</td>\n",
              "      <td>134.0</td>\n",
              "      <td>1.0</td>\n",
              "      <td>0.0</td>\n",
              "      <td>1.0</td>\n",
              "      <td>0.0</td>\n",
              "      <td>0.0</td>\n",
              "      <td>1.0</td>\n",
              "      <td>1.0</td>\n",
              "      <td>0.0</td>\n",
              "      <td>0.0</td>\n",
              "      <td>0.0</td>\n",
              "      <td>0.0</td>\n",
              "      <td>0.0</td>\n",
              "      <td>0.0</td>\n",
              "      <td>0.0</td>\n",
              "      <td>0.0</td>\n",
              "      <td>0.0</td>\n",
              "      <td>8.040000</td>\n",
              "    </tr>\n",
              "    <tr>\n",
              "      <th>1</th>\n",
              "      <td>2</td>\n",
              "      <td>2021-08-31</td>\n",
              "      <td>15:34:01.438</td>\n",
              "      <td>312.0</td>\n",
              "      <td>1059.0</td>\n",
              "      <td>134.0</td>\n",
              "      <td>1.0</td>\n",
              "      <td>0.0</td>\n",
              "      <td>1.0</td>\n",
              "      <td>0.0</td>\n",
              "      <td>0.0</td>\n",
              "      <td>1.0</td>\n",
              "      <td>1.0</td>\n",
              "      <td>0.0</td>\n",
              "      <td>0.0</td>\n",
              "      <td>0.0</td>\n",
              "      <td>0.0</td>\n",
              "      <td>0.0</td>\n",
              "      <td>0.0</td>\n",
              "      <td>0.0</td>\n",
              "      <td>0.0</td>\n",
              "      <td>0.0</td>\n",
              "      <td>8.041000</td>\n",
              "    </tr>\n",
              "    <tr>\n",
              "      <th>2</th>\n",
              "      <td>3</td>\n",
              "      <td>2021-08-31</td>\n",
              "      <td>15:34:01.454</td>\n",
              "      <td>312.0</td>\n",
              "      <td>1059.0</td>\n",
              "      <td>134.0</td>\n",
              "      <td>1.0</td>\n",
              "      <td>0.0</td>\n",
              "      <td>1.0</td>\n",
              "      <td>0.0</td>\n",
              "      <td>0.0</td>\n",
              "      <td>1.0</td>\n",
              "      <td>1.0</td>\n",
              "      <td>0.0</td>\n",
              "      <td>0.0</td>\n",
              "      <td>0.0</td>\n",
              "      <td>0.0</td>\n",
              "      <td>0.0</td>\n",
              "      <td>0.0</td>\n",
              "      <td>0.0</td>\n",
              "      <td>0.0</td>\n",
              "      <td>0.0</td>\n",
              "      <td>8.042001</td>\n",
              "    </tr>\n",
              "    <tr>\n",
              "      <th>3</th>\n",
              "      <td>4</td>\n",
              "      <td>2021-08-31</td>\n",
              "      <td>15:34:01.473</td>\n",
              "      <td>312.0</td>\n",
              "      <td>1059.0</td>\n",
              "      <td>134.0</td>\n",
              "      <td>1.0</td>\n",
              "      <td>0.0</td>\n",
              "      <td>1.0</td>\n",
              "      <td>0.0</td>\n",
              "      <td>0.0</td>\n",
              "      <td>1.0</td>\n",
              "      <td>1.0</td>\n",
              "      <td>0.0</td>\n",
              "      <td>0.0</td>\n",
              "      <td>0.0</td>\n",
              "      <td>0.0</td>\n",
              "      <td>0.0</td>\n",
              "      <td>0.0</td>\n",
              "      <td>0.0</td>\n",
              "      <td>0.0</td>\n",
              "      <td>0.0</td>\n",
              "      <td>8.043000</td>\n",
              "    </tr>\n",
              "    <tr>\n",
              "      <th>4</th>\n",
              "      <td>5</td>\n",
              "      <td>2021-08-31</td>\n",
              "      <td>15:34:01.487</td>\n",
              "      <td>312.0</td>\n",
              "      <td>1059.0</td>\n",
              "      <td>134.0</td>\n",
              "      <td>1.0</td>\n",
              "      <td>0.0</td>\n",
              "      <td>1.0</td>\n",
              "      <td>0.0</td>\n",
              "      <td>0.0</td>\n",
              "      <td>1.0</td>\n",
              "      <td>1.0</td>\n",
              "      <td>0.0</td>\n",
              "      <td>0.0</td>\n",
              "      <td>0.0</td>\n",
              "      <td>0.0</td>\n",
              "      <td>0.0</td>\n",
              "      <td>0.0</td>\n",
              "      <td>0.0</td>\n",
              "      <td>0.0</td>\n",
              "      <td>0.0</td>\n",
              "      <td>8.040000</td>\n",
              "    </tr>\n",
              "  </tbody>\n",
              "</table>\n",
              "</div>"
            ],
            "text/plain": [
              "         SeqNo        Date      UTC Time  ...  devirmeyukari  devirmeasagi      akim\n",
              "0            1  2021-08-31  15:34:01.426  ...            0.0           0.0  8.040000\n",
              "1            2  2021-08-31  15:34:01.438  ...            0.0           0.0  8.041000\n",
              "2            3  2021-08-31  15:34:01.454  ...            0.0           0.0  8.042001\n",
              "3            4  2021-08-31  15:34:01.473  ...            0.0           0.0  8.043000\n",
              "4            5  2021-08-31  15:34:01.487  ...            0.0           0.0  8.040000\n",
              "\n",
              "[5 rows x 23 columns]"
            ]
          },
          "metadata": {},
          "execution_count": 44
        }
      ]
    },
    {
      "cell_type": "code",
      "metadata": {
        "id": "4IJGloeRSFea",
        "colab": {
          "base_uri": "https://localhost:8080/"
        },
        "outputId": "5e905734-6f37-43c6-d1b7-c0833d04b067"
      },
      "source": [
        "df.info()"
      ],
      "execution_count": null,
      "outputs": [
        {
          "output_type": "stream",
          "name": "stdout",
          "text": [
            "<class 'pandas.core.frame.DataFrame'>\n",
            "RangeIndex: 8821 entries, 0 to 8820\n",
            "Data columns (total 23 columns):\n",
            " #   Column             Non-Null Count  Dtype  \n",
            "---  ------             --------------  -----  \n",
            " 0   SeqNo              8821 non-null   object \n",
            " 1   Date               8820 non-null   object \n",
            " 2   UTC Time           8820 non-null   object \n",
            " 3   sicaklik           8820 non-null   float64\n",
            " 4   basinc             8820 non-null   float64\n",
            " 5   titresim           8820 non-null   float64\n",
            " 6   araba-geride       8820 non-null   float64\n",
            " 7   araba-ileride      8820 non-null   float64\n",
            " 8   cene-acik          8820 non-null   float64\n",
            " 9   cene-kapali        8820 non-null   float64\n",
            " 10  devirme-yukarida   8820 non-null   float64\n",
            " 11  devirme-asagida    8820 non-null   float64\n",
            " 12  kaldirici-asagida  8820 non-null   float64\n",
            " 13  kaldirci-yukarida  8820 non-null   float64\n",
            " 14  kaldiriciyukari    8820 non-null   float64\n",
            " 15  kadiriciasagi      8820 non-null   float64\n",
            " 16  arabaileri         8820 non-null   float64\n",
            " 17  arabageri          8820 non-null   float64\n",
            " 18  cenekapa           8820 non-null   float64\n",
            " 19  ceneac             8820 non-null   float64\n",
            " 20  devirmeyukari      8820 non-null   float64\n",
            " 21  devirmeasagi       8820 non-null   float64\n",
            " 22  akim               8820 non-null   float64\n",
            "dtypes: float64(20), object(3)\n",
            "memory usage: 1.5+ MB\n"
          ]
        }
      ]
    },
    {
      "cell_type": "markdown",
      "metadata": {
        "id": "7K9HS9s-WM-_"
      },
      "source": [
        "# SeqNo kolunundaki 1 fazla satırın silinmesi\n",
        "bu satır en sondaki END satırı"
      ]
    },
    {
      "cell_type": "code",
      "metadata": {
        "colab": {
          "base_uri": "https://localhost:8080/"
        },
        "id": "lfoIy6M3T2fD",
        "outputId": "3aead59b-7466-4643-9167-60cabd44be98"
      },
      "source": [
        "print(df.isna().sum())"
      ],
      "execution_count": null,
      "outputs": [
        {
          "output_type": "stream",
          "name": "stdout",
          "text": [
            "SeqNo                0\n",
            "Date                 1\n",
            "UTC Time             1\n",
            "sicaklik             1\n",
            "basinc               1\n",
            "titresim             1\n",
            "araba-geride         1\n",
            "araba-ileride        1\n",
            "cene-acik            1\n",
            "cene-kapali          1\n",
            "devirme-yukarida     1\n",
            "devirme-asagida      1\n",
            "kaldirici-asagida    1\n",
            "kaldirci-yukarida    1\n",
            "kaldiriciyukari      1\n",
            "kadiriciasagi        1\n",
            "arabaileri           1\n",
            "arabageri            1\n",
            "cenekapa             1\n",
            "ceneac               1\n",
            "devirmeyukari        1\n",
            "devirmeasagi         1\n",
            "akim                 1\n",
            "dtype: int64\n"
          ]
        }
      ]
    },
    {
      "cell_type": "code",
      "metadata": {
        "colab": {
          "base_uri": "https://localhost:8080/"
        },
        "id": "dCA5U9i1UQAK",
        "outputId": "58e01b50-3c00-46eb-87ae-ab4a59b0f268"
      },
      "source": [
        "df[\"SeqNo\"]"
      ],
      "execution_count": null,
      "outputs": [
        {
          "output_type": "execute_result",
          "data": {
            "text/plain": [
              "0                 1\n",
              "1                 2\n",
              "2                 3\n",
              "3                 4\n",
              "4                 5\n",
              "           ...     \n",
              "8816           8817\n",
              "8817           8818\n",
              "8818           8819\n",
              "8819           8820\n",
              "8820          //END\n",
              "Name: SeqNo, Length: 8821, dtype: object"
            ]
          },
          "metadata": {},
          "execution_count": 47
        }
      ]
    },
    {
      "cell_type": "code",
      "metadata": {
        "colab": {
          "base_uri": "https://localhost:8080/"
        },
        "id": "YVEEWzyWUk3i",
        "outputId": "e8eca5e2-ff81-4a5c-fc8a-1bc0d0d45484"
      },
      "source": [
        "df = df.drop(8820)\n",
        "print(df.isna().sum())"
      ],
      "execution_count": null,
      "outputs": [
        {
          "output_type": "stream",
          "name": "stdout",
          "text": [
            "SeqNo                0\n",
            "Date                 0\n",
            "UTC Time             0\n",
            "sicaklik             0\n",
            "basinc               0\n",
            "titresim             0\n",
            "araba-geride         0\n",
            "araba-ileride        0\n",
            "cene-acik            0\n",
            "cene-kapali          0\n",
            "devirme-yukarida     0\n",
            "devirme-asagida      0\n",
            "kaldirici-asagida    0\n",
            "kaldirci-yukarida    0\n",
            "kaldiriciyukari      0\n",
            "kadiriciasagi        0\n",
            "arabaileri           0\n",
            "arabageri            0\n",
            "cenekapa             0\n",
            "ceneac               0\n",
            "devirmeyukari        0\n",
            "devirmeasagi         0\n",
            "akim                 0\n",
            "dtype: int64\n"
          ]
        }
      ]
    },
    {
      "cell_type": "markdown",
      "metadata": {
        "id": "U5-368jrWjII"
      },
      "source": [
        "# temel DF nin DF1 olarak kopyalanması"
      ]
    },
    {
      "cell_type": "code",
      "metadata": {
        "id": "AMuyv4yNmqTM"
      },
      "source": [
        "df1=df.copy()"
      ],
      "execution_count": null,
      "outputs": []
    },
    {
      "cell_type": "markdown",
      "metadata": {
        "id": "B1xCPm_uVzhS"
      },
      "source": [
        "# PLC data scala işlemi , bu işlemler PLC yapısı ile alakalı"
      ]
    },
    {
      "cell_type": "code",
      "metadata": {
        "id": "QmEkbHswk67g"
      },
      "source": [
        "sabit1=10*25/65366\n",
        "df1[\"titresim\"]=df[\"titresim\"]*sabit1\n",
        "#print(df1[\"titresim\"].describe())\n",
        "\n",
        "sabit2=1/10\n",
        "df1[\"sicaklik\"]=df[\"sicaklik\"]*sabit2\n",
        "#print(df1[\"sicaklik\"].describe())\n",
        "\n",
        "sabit3=1/100\n",
        "df1[\"basinc\"]=df[\"basinc\"]*sabit3\n",
        "#print(df1[\"basinc\"].describe())\n"
      ],
      "execution_count": null,
      "outputs": []
    },
    {
      "cell_type": "markdown",
      "metadata": {
        "id": "yQ4WKZ0SXazd"
      },
      "source": [
        "# Date kolonu sadece yıl ay gün bilgisi içerdiği için bu kolonun silinmesi"
      ]
    },
    {
      "cell_type": "code",
      "metadata": {
        "id": "0hZHbV4XW6_g"
      },
      "source": [
        "df1=df1.drop([\"Date\"],axis=1)"
      ],
      "execution_count": null,
      "outputs": []
    },
    {
      "cell_type": "code",
      "metadata": {
        "colab": {
          "base_uri": "https://localhost:8080/",
          "height": 224
        },
        "id": "nXo_cE4-t8l5",
        "outputId": "2accdcb3-12a0-42fb-ff22-9e6a06cb2402"
      },
      "source": [
        "df1.head()"
      ],
      "execution_count": null,
      "outputs": [
        {
          "output_type": "execute_result",
          "data": {
            "text/html": [
              "<div>\n",
              "<style scoped>\n",
              "    .dataframe tbody tr th:only-of-type {\n",
              "        vertical-align: middle;\n",
              "    }\n",
              "\n",
              "    .dataframe tbody tr th {\n",
              "        vertical-align: top;\n",
              "    }\n",
              "\n",
              "    .dataframe thead th {\n",
              "        text-align: right;\n",
              "    }\n",
              "</style>\n",
              "<table border=\"1\" class=\"dataframe\">\n",
              "  <thead>\n",
              "    <tr style=\"text-align: right;\">\n",
              "      <th></th>\n",
              "      <th>SeqNo</th>\n",
              "      <th>UTC Time</th>\n",
              "      <th>sicaklik</th>\n",
              "      <th>basinc</th>\n",
              "      <th>titresim</th>\n",
              "      <th>araba-geride</th>\n",
              "      <th>araba-ileride</th>\n",
              "      <th>cene-acik</th>\n",
              "      <th>cene-kapali</th>\n",
              "      <th>devirme-yukarida</th>\n",
              "      <th>devirme-asagida</th>\n",
              "      <th>kaldirici-asagida</th>\n",
              "      <th>kaldirci-yukarida</th>\n",
              "      <th>kaldiriciyukari</th>\n",
              "      <th>kadiriciasagi</th>\n",
              "      <th>arabaileri</th>\n",
              "      <th>arabageri</th>\n",
              "      <th>cenekapa</th>\n",
              "      <th>ceneac</th>\n",
              "      <th>devirmeyukari</th>\n",
              "      <th>devirmeasagi</th>\n",
              "      <th>akim</th>\n",
              "    </tr>\n",
              "  </thead>\n",
              "  <tbody>\n",
              "    <tr>\n",
              "      <th>0</th>\n",
              "      <td>1</td>\n",
              "      <td>15:34:01.426</td>\n",
              "      <td>31.2</td>\n",
              "      <td>10.59</td>\n",
              "      <td>0.512499</td>\n",
              "      <td>1.0</td>\n",
              "      <td>0.0</td>\n",
              "      <td>1.0</td>\n",
              "      <td>0.0</td>\n",
              "      <td>0.0</td>\n",
              "      <td>1.0</td>\n",
              "      <td>1.0</td>\n",
              "      <td>0.0</td>\n",
              "      <td>0.0</td>\n",
              "      <td>0.0</td>\n",
              "      <td>0.0</td>\n",
              "      <td>0.0</td>\n",
              "      <td>0.0</td>\n",
              "      <td>0.0</td>\n",
              "      <td>0.0</td>\n",
              "      <td>0.0</td>\n",
              "      <td>8.040000</td>\n",
              "    </tr>\n",
              "    <tr>\n",
              "      <th>1</th>\n",
              "      <td>2</td>\n",
              "      <td>15:34:01.438</td>\n",
              "      <td>31.2</td>\n",
              "      <td>10.59</td>\n",
              "      <td>0.512499</td>\n",
              "      <td>1.0</td>\n",
              "      <td>0.0</td>\n",
              "      <td>1.0</td>\n",
              "      <td>0.0</td>\n",
              "      <td>0.0</td>\n",
              "      <td>1.0</td>\n",
              "      <td>1.0</td>\n",
              "      <td>0.0</td>\n",
              "      <td>0.0</td>\n",
              "      <td>0.0</td>\n",
              "      <td>0.0</td>\n",
              "      <td>0.0</td>\n",
              "      <td>0.0</td>\n",
              "      <td>0.0</td>\n",
              "      <td>0.0</td>\n",
              "      <td>0.0</td>\n",
              "      <td>8.041000</td>\n",
              "    </tr>\n",
              "    <tr>\n",
              "      <th>2</th>\n",
              "      <td>3</td>\n",
              "      <td>15:34:01.454</td>\n",
              "      <td>31.2</td>\n",
              "      <td>10.59</td>\n",
              "      <td>0.512499</td>\n",
              "      <td>1.0</td>\n",
              "      <td>0.0</td>\n",
              "      <td>1.0</td>\n",
              "      <td>0.0</td>\n",
              "      <td>0.0</td>\n",
              "      <td>1.0</td>\n",
              "      <td>1.0</td>\n",
              "      <td>0.0</td>\n",
              "      <td>0.0</td>\n",
              "      <td>0.0</td>\n",
              "      <td>0.0</td>\n",
              "      <td>0.0</td>\n",
              "      <td>0.0</td>\n",
              "      <td>0.0</td>\n",
              "      <td>0.0</td>\n",
              "      <td>0.0</td>\n",
              "      <td>8.042001</td>\n",
              "    </tr>\n",
              "    <tr>\n",
              "      <th>3</th>\n",
              "      <td>4</td>\n",
              "      <td>15:34:01.473</td>\n",
              "      <td>31.2</td>\n",
              "      <td>10.59</td>\n",
              "      <td>0.512499</td>\n",
              "      <td>1.0</td>\n",
              "      <td>0.0</td>\n",
              "      <td>1.0</td>\n",
              "      <td>0.0</td>\n",
              "      <td>0.0</td>\n",
              "      <td>1.0</td>\n",
              "      <td>1.0</td>\n",
              "      <td>0.0</td>\n",
              "      <td>0.0</td>\n",
              "      <td>0.0</td>\n",
              "      <td>0.0</td>\n",
              "      <td>0.0</td>\n",
              "      <td>0.0</td>\n",
              "      <td>0.0</td>\n",
              "      <td>0.0</td>\n",
              "      <td>0.0</td>\n",
              "      <td>8.043000</td>\n",
              "    </tr>\n",
              "    <tr>\n",
              "      <th>4</th>\n",
              "      <td>5</td>\n",
              "      <td>15:34:01.487</td>\n",
              "      <td>31.2</td>\n",
              "      <td>10.59</td>\n",
              "      <td>0.512499</td>\n",
              "      <td>1.0</td>\n",
              "      <td>0.0</td>\n",
              "      <td>1.0</td>\n",
              "      <td>0.0</td>\n",
              "      <td>0.0</td>\n",
              "      <td>1.0</td>\n",
              "      <td>1.0</td>\n",
              "      <td>0.0</td>\n",
              "      <td>0.0</td>\n",
              "      <td>0.0</td>\n",
              "      <td>0.0</td>\n",
              "      <td>0.0</td>\n",
              "      <td>0.0</td>\n",
              "      <td>0.0</td>\n",
              "      <td>0.0</td>\n",
              "      <td>0.0</td>\n",
              "      <td>8.040000</td>\n",
              "    </tr>\n",
              "  </tbody>\n",
              "</table>\n",
              "</div>"
            ],
            "text/plain": [
              "         SeqNo      UTC Time  sicaklik  ...  devirmeyukari  devirmeasagi      akim\n",
              "0            1  15:34:01.426      31.2  ...            0.0           0.0  8.040000\n",
              "1            2  15:34:01.438      31.2  ...            0.0           0.0  8.041000\n",
              "2            3  15:34:01.454      31.2  ...            0.0           0.0  8.042001\n",
              "3            4  15:34:01.473      31.2  ...            0.0           0.0  8.043000\n",
              "4            5  15:34:01.487      31.2  ...            0.0           0.0  8.040000\n",
              "\n",
              "[5 rows x 22 columns]"
            ]
          },
          "metadata": {},
          "execution_count": 52
        }
      ]
    },
    {
      "cell_type": "markdown",
      "metadata": {
        "id": "3UldPHT5ZtDM"
      },
      "source": [
        "# Hareket aralıkları için zaman aralık süresi eklemek, milli saniye olarak "
      ]
    },
    {
      "cell_type": "code",
      "metadata": {
        "id": "5rzSWHvaZnVA"
      },
      "source": [
        "df_zaman=df1.drop([\"SeqNo\",\"UTC Time\",\"sicaklik\",\"basinc\",\"titresim\",\"akim\"],axis=1)"
      ],
      "execution_count": null,
      "outputs": []
    },
    {
      "cell_type": "code",
      "metadata": {
        "id": "QSkBNx1rambr"
      },
      "source": [
        "aaa=df_zaman.diff()"
      ],
      "execution_count": null,
      "outputs": []
    },
    {
      "cell_type": "code",
      "metadata": {
        "id": "qh79tpozrlEr"
      },
      "source": [
        "dfr=(aaa == 0.0)"
      ],
      "execution_count": null,
      "outputs": []
    },
    {
      "cell_type": "code",
      "metadata": {
        "id": "mCZ_Rch2uO2b"
      },
      "source": [
        "bbb=dfr.all(axis=1)"
      ],
      "execution_count": null,
      "outputs": []
    },
    {
      "cell_type": "code",
      "metadata": {
        "id": "zVg51q9uunud"
      },
      "source": [
        "df_zaman[\"degisim\"]=bbb"
      ],
      "execution_count": null,
      "outputs": []
    },
    {
      "cell_type": "code",
      "metadata": {
        "colab": {
          "base_uri": "https://localhost:8080/"
        },
        "id": "vjSJr3vYwSsS",
        "outputId": "508810cc-7bdd-47c2-ab5b-97839abcc475"
      },
      "source": [
        "liste7=df_zaman.loc[df_zaman['degisim'] == False].index.tolist()\n",
        "print(\"degisimlerin oldugu satir no listesi \\n\",liste7)"
      ],
      "execution_count": null,
      "outputs": [
        {
          "output_type": "stream",
          "name": "stdout",
          "text": [
            "degisimlerin oldugu satir no listesi \n",
            " [0, 128, 144, 267, 274, 702, 708, 736, 741, 1077, 1081, 1551, 1569, 1615, 1624, 2332, 2348, 2450, 2451, 2496, 2509, 2597, 2605, 2945, 2951, 2972, 2978, 3248, 3253, 3632, 3633, 3651, 3681, 3682, 3688, 4279, 4292, 4375, 4427, 4439, 4517, 4522, 4802, 4805, 4823, 4826, 5046, 5049, 5366, 5380, 5412, 5417, 5917, 5929, 6004, 6046, 6056, 6125, 6129, 6372, 6374, 6391, 6394, 6585, 6588, 6864, 6877, 6905, 6910, 7366, 7367, 7378, 7446, 7477, 7486, 7545, 7548, 7780, 7783, 7793, 7797, 7975, 7978, 8231, 8241, 8269, 8273, 8691, 8701, 8763]\n"
          ]
        }
      ]
    },
    {
      "cell_type": "code",
      "metadata": {
        "id": "q0l2qFvnwxS-"
      },
      "source": [
        "df_zaman_ekle=df1.copy()\n",
        "df_zaman_ekle[\"hareket-zaman-aralik\"]=0"
      ],
      "execution_count": null,
      "outputs": []
    },
    {
      "cell_type": "code",
      "metadata": {
        "id": "td31kCLGxGGx"
      },
      "source": [
        "from datetime import datetime \n",
        "\n",
        "for i,zz in enumerate(liste7):\n",
        "  ilk=df_zaman_ekle.loc[liste7[i]][\"UTC Time\"]\n",
        "  d5=datetime.strptime(ilk,\"%H:%M:%S.%f\")\n",
        "  if i+1 != len(liste7):\n",
        "    son=df_zaman_ekle.loc[liste7[i+1]][\"UTC Time\"]\n",
        "    d6=datetime.strptime(son,\"%H:%M:%S.%f\")\n",
        "    df_zaman_ekle.at[liste7[i], \"hareket-zaman-aralik\"] = (d6.timestamp()-d5.timestamp())*1000\n"
      ],
      "execution_count": null,
      "outputs": []
    },
    {
      "cell_type": "code",
      "metadata": {
        "colab": {
          "base_uri": "https://localhost:8080/",
          "height": 478
        },
        "id": "piJRtjBYYbIq",
        "outputId": "54a47419-d378-482b-bbba-1b146f2e3c66"
      },
      "source": [
        "df_zaman_ekle"
      ],
      "execution_count": null,
      "outputs": [
        {
          "output_type": "execute_result",
          "data": {
            "text/html": [
              "<div>\n",
              "<style scoped>\n",
              "    .dataframe tbody tr th:only-of-type {\n",
              "        vertical-align: middle;\n",
              "    }\n",
              "\n",
              "    .dataframe tbody tr th {\n",
              "        vertical-align: top;\n",
              "    }\n",
              "\n",
              "    .dataframe thead th {\n",
              "        text-align: right;\n",
              "    }\n",
              "</style>\n",
              "<table border=\"1\" class=\"dataframe\">\n",
              "  <thead>\n",
              "    <tr style=\"text-align: right;\">\n",
              "      <th></th>\n",
              "      <th>SeqNo</th>\n",
              "      <th>UTC Time</th>\n",
              "      <th>sicaklik</th>\n",
              "      <th>basinc</th>\n",
              "      <th>titresim</th>\n",
              "      <th>araba-geride</th>\n",
              "      <th>araba-ileride</th>\n",
              "      <th>cene-acik</th>\n",
              "      <th>cene-kapali</th>\n",
              "      <th>devirme-yukarida</th>\n",
              "      <th>devirme-asagida</th>\n",
              "      <th>kaldirici-asagida</th>\n",
              "      <th>kaldirci-yukarida</th>\n",
              "      <th>kaldiriciyukari</th>\n",
              "      <th>kadiriciasagi</th>\n",
              "      <th>arabaileri</th>\n",
              "      <th>arabageri</th>\n",
              "      <th>cenekapa</th>\n",
              "      <th>ceneac</th>\n",
              "      <th>devirmeyukari</th>\n",
              "      <th>devirmeasagi</th>\n",
              "      <th>akim</th>\n",
              "      <th>hareket-zaman-aralik</th>\n",
              "    </tr>\n",
              "  </thead>\n",
              "  <tbody>\n",
              "    <tr>\n",
              "      <th>0</th>\n",
              "      <td>1</td>\n",
              "      <td>15:34:01.426</td>\n",
              "      <td>31.2</td>\n",
              "      <td>10.59</td>\n",
              "      <td>0.512499</td>\n",
              "      <td>1.0</td>\n",
              "      <td>0.0</td>\n",
              "      <td>1.0</td>\n",
              "      <td>0.0</td>\n",
              "      <td>0.0</td>\n",
              "      <td>1.0</td>\n",
              "      <td>1.0</td>\n",
              "      <td>0.0</td>\n",
              "      <td>0.0</td>\n",
              "      <td>0.0</td>\n",
              "      <td>0.0</td>\n",
              "      <td>0.0</td>\n",
              "      <td>0.0</td>\n",
              "      <td>0.0</td>\n",
              "      <td>0.0</td>\n",
              "      <td>0.0</td>\n",
              "      <td>8.040000</td>\n",
              "      <td>2532</td>\n",
              "    </tr>\n",
              "    <tr>\n",
              "      <th>1</th>\n",
              "      <td>2</td>\n",
              "      <td>15:34:01.438</td>\n",
              "      <td>31.2</td>\n",
              "      <td>10.59</td>\n",
              "      <td>0.512499</td>\n",
              "      <td>1.0</td>\n",
              "      <td>0.0</td>\n",
              "      <td>1.0</td>\n",
              "      <td>0.0</td>\n",
              "      <td>0.0</td>\n",
              "      <td>1.0</td>\n",
              "      <td>1.0</td>\n",
              "      <td>0.0</td>\n",
              "      <td>0.0</td>\n",
              "      <td>0.0</td>\n",
              "      <td>0.0</td>\n",
              "      <td>0.0</td>\n",
              "      <td>0.0</td>\n",
              "      <td>0.0</td>\n",
              "      <td>0.0</td>\n",
              "      <td>0.0</td>\n",
              "      <td>8.041000</td>\n",
              "      <td>0</td>\n",
              "    </tr>\n",
              "    <tr>\n",
              "      <th>2</th>\n",
              "      <td>3</td>\n",
              "      <td>15:34:01.454</td>\n",
              "      <td>31.2</td>\n",
              "      <td>10.59</td>\n",
              "      <td>0.512499</td>\n",
              "      <td>1.0</td>\n",
              "      <td>0.0</td>\n",
              "      <td>1.0</td>\n",
              "      <td>0.0</td>\n",
              "      <td>0.0</td>\n",
              "      <td>1.0</td>\n",
              "      <td>1.0</td>\n",
              "      <td>0.0</td>\n",
              "      <td>0.0</td>\n",
              "      <td>0.0</td>\n",
              "      <td>0.0</td>\n",
              "      <td>0.0</td>\n",
              "      <td>0.0</td>\n",
              "      <td>0.0</td>\n",
              "      <td>0.0</td>\n",
              "      <td>0.0</td>\n",
              "      <td>8.042001</td>\n",
              "      <td>0</td>\n",
              "    </tr>\n",
              "    <tr>\n",
              "      <th>3</th>\n",
              "      <td>4</td>\n",
              "      <td>15:34:01.473</td>\n",
              "      <td>31.2</td>\n",
              "      <td>10.59</td>\n",
              "      <td>0.512499</td>\n",
              "      <td>1.0</td>\n",
              "      <td>0.0</td>\n",
              "      <td>1.0</td>\n",
              "      <td>0.0</td>\n",
              "      <td>0.0</td>\n",
              "      <td>1.0</td>\n",
              "      <td>1.0</td>\n",
              "      <td>0.0</td>\n",
              "      <td>0.0</td>\n",
              "      <td>0.0</td>\n",
              "      <td>0.0</td>\n",
              "      <td>0.0</td>\n",
              "      <td>0.0</td>\n",
              "      <td>0.0</td>\n",
              "      <td>0.0</td>\n",
              "      <td>0.0</td>\n",
              "      <td>8.043000</td>\n",
              "      <td>0</td>\n",
              "    </tr>\n",
              "    <tr>\n",
              "      <th>4</th>\n",
              "      <td>5</td>\n",
              "      <td>15:34:01.487</td>\n",
              "      <td>31.2</td>\n",
              "      <td>10.59</td>\n",
              "      <td>0.512499</td>\n",
              "      <td>1.0</td>\n",
              "      <td>0.0</td>\n",
              "      <td>1.0</td>\n",
              "      <td>0.0</td>\n",
              "      <td>0.0</td>\n",
              "      <td>1.0</td>\n",
              "      <td>1.0</td>\n",
              "      <td>0.0</td>\n",
              "      <td>0.0</td>\n",
              "      <td>0.0</td>\n",
              "      <td>0.0</td>\n",
              "      <td>0.0</td>\n",
              "      <td>0.0</td>\n",
              "      <td>0.0</td>\n",
              "      <td>0.0</td>\n",
              "      <td>0.0</td>\n",
              "      <td>8.040000</td>\n",
              "      <td>0</td>\n",
              "    </tr>\n",
              "    <tr>\n",
              "      <th>...</th>\n",
              "      <td>...</td>\n",
              "      <td>...</td>\n",
              "      <td>...</td>\n",
              "      <td>...</td>\n",
              "      <td>...</td>\n",
              "      <td>...</td>\n",
              "      <td>...</td>\n",
              "      <td>...</td>\n",
              "      <td>...</td>\n",
              "      <td>...</td>\n",
              "      <td>...</td>\n",
              "      <td>...</td>\n",
              "      <td>...</td>\n",
              "      <td>...</td>\n",
              "      <td>...</td>\n",
              "      <td>...</td>\n",
              "      <td>...</td>\n",
              "      <td>...</td>\n",
              "      <td>...</td>\n",
              "      <td>...</td>\n",
              "      <td>...</td>\n",
              "      <td>...</td>\n",
              "      <td>...</td>\n",
              "    </tr>\n",
              "    <tr>\n",
              "      <th>8815</th>\n",
              "      <td>8816</td>\n",
              "      <td>15:38:41.082</td>\n",
              "      <td>31.6</td>\n",
              "      <td>10.36</td>\n",
              "      <td>0.596640</td>\n",
              "      <td>1.0</td>\n",
              "      <td>0.0</td>\n",
              "      <td>1.0</td>\n",
              "      <td>0.0</td>\n",
              "      <td>0.0</td>\n",
              "      <td>1.0</td>\n",
              "      <td>1.0</td>\n",
              "      <td>0.0</td>\n",
              "      <td>0.0</td>\n",
              "      <td>0.0</td>\n",
              "      <td>0.0</td>\n",
              "      <td>0.0</td>\n",
              "      <td>0.0</td>\n",
              "      <td>0.0</td>\n",
              "      <td>0.0</td>\n",
              "      <td>0.0</td>\n",
              "      <td>8.006001</td>\n",
              "      <td>0</td>\n",
              "    </tr>\n",
              "    <tr>\n",
              "      <th>8816</th>\n",
              "      <td>8817</td>\n",
              "      <td>15:38:41.119</td>\n",
              "      <td>31.6</td>\n",
              "      <td>10.36</td>\n",
              "      <td>0.596640</td>\n",
              "      <td>1.0</td>\n",
              "      <td>0.0</td>\n",
              "      <td>1.0</td>\n",
              "      <td>0.0</td>\n",
              "      <td>0.0</td>\n",
              "      <td>1.0</td>\n",
              "      <td>1.0</td>\n",
              "      <td>0.0</td>\n",
              "      <td>0.0</td>\n",
              "      <td>0.0</td>\n",
              "      <td>0.0</td>\n",
              "      <td>0.0</td>\n",
              "      <td>0.0</td>\n",
              "      <td>0.0</td>\n",
              "      <td>0.0</td>\n",
              "      <td>0.0</td>\n",
              "      <td>8.006001</td>\n",
              "      <td>0</td>\n",
              "    </tr>\n",
              "    <tr>\n",
              "      <th>8817</th>\n",
              "      <td>8818</td>\n",
              "      <td>15:38:41.159</td>\n",
              "      <td>31.6</td>\n",
              "      <td>10.53</td>\n",
              "      <td>0.585167</td>\n",
              "      <td>1.0</td>\n",
              "      <td>0.0</td>\n",
              "      <td>1.0</td>\n",
              "      <td>0.0</td>\n",
              "      <td>0.0</td>\n",
              "      <td>1.0</td>\n",
              "      <td>1.0</td>\n",
              "      <td>0.0</td>\n",
              "      <td>0.0</td>\n",
              "      <td>0.0</td>\n",
              "      <td>0.0</td>\n",
              "      <td>0.0</td>\n",
              "      <td>0.0</td>\n",
              "      <td>0.0</td>\n",
              "      <td>0.0</td>\n",
              "      <td>0.0</td>\n",
              "      <td>8.007000</td>\n",
              "      <td>0</td>\n",
              "    </tr>\n",
              "    <tr>\n",
              "      <th>8818</th>\n",
              "      <td>8819</td>\n",
              "      <td>15:38:41.196</td>\n",
              "      <td>31.6</td>\n",
              "      <td>10.53</td>\n",
              "      <td>0.585167</td>\n",
              "      <td>1.0</td>\n",
              "      <td>0.0</td>\n",
              "      <td>1.0</td>\n",
              "      <td>0.0</td>\n",
              "      <td>0.0</td>\n",
              "      <td>1.0</td>\n",
              "      <td>1.0</td>\n",
              "      <td>0.0</td>\n",
              "      <td>0.0</td>\n",
              "      <td>0.0</td>\n",
              "      <td>0.0</td>\n",
              "      <td>0.0</td>\n",
              "      <td>0.0</td>\n",
              "      <td>0.0</td>\n",
              "      <td>0.0</td>\n",
              "      <td>0.0</td>\n",
              "      <td>8.000000</td>\n",
              "      <td>0</td>\n",
              "    </tr>\n",
              "    <tr>\n",
              "      <th>8819</th>\n",
              "      <td>8820</td>\n",
              "      <td>15:38:41.233</td>\n",
              "      <td>31.6</td>\n",
              "      <td>10.53</td>\n",
              "      <td>0.585167</td>\n",
              "      <td>1.0</td>\n",
              "      <td>0.0</td>\n",
              "      <td>1.0</td>\n",
              "      <td>0.0</td>\n",
              "      <td>0.0</td>\n",
              "      <td>1.0</td>\n",
              "      <td>1.0</td>\n",
              "      <td>0.0</td>\n",
              "      <td>0.0</td>\n",
              "      <td>0.0</td>\n",
              "      <td>0.0</td>\n",
              "      <td>0.0</td>\n",
              "      <td>0.0</td>\n",
              "      <td>0.0</td>\n",
              "      <td>0.0</td>\n",
              "      <td>0.0</td>\n",
              "      <td>7.999001</td>\n",
              "      <td>0</td>\n",
              "    </tr>\n",
              "  </tbody>\n",
              "</table>\n",
              "<p>8820 rows × 23 columns</p>\n",
              "</div>"
            ],
            "text/plain": [
              "            SeqNo      UTC Time  ...      akim  hareket-zaman-aralik\n",
              "0               1  15:34:01.426  ...  8.040000                  2532\n",
              "1               2  15:34:01.438  ...  8.041000                     0\n",
              "2               3  15:34:01.454  ...  8.042001                     0\n",
              "3               4  15:34:01.473  ...  8.043000                     0\n",
              "4               5  15:34:01.487  ...  8.040000                     0\n",
              "...           ...           ...  ...       ...                   ...\n",
              "8815         8816  15:38:41.082  ...  8.006001                     0\n",
              "8816         8817  15:38:41.119  ...  8.006001                     0\n",
              "8817         8818  15:38:41.159  ...  8.007000                     0\n",
              "8818         8819  15:38:41.196  ...  8.000000                     0\n",
              "8819         8820  15:38:41.233  ...  7.999001                     0\n",
              "\n",
              "[8820 rows x 23 columns]"
            ]
          },
          "metadata": {},
          "execution_count": 180
        }
      ]
    },
    {
      "cell_type": "markdown",
      "metadata": {
        "id": "-klsAkNcLr1b"
      },
      "source": [
        "# Train Test SET"
      ]
    },
    {
      "cell_type": "code",
      "metadata": {
        "id": "g-yqPLhDuSQ3"
      },
      "source": [
        "train_set, test_set = train_test_split(df1, test_size=0.2, random_state=42)"
      ],
      "execution_count": null,
      "outputs": []
    },
    {
      "cell_type": "markdown",
      "metadata": {
        "id": "uk3phRDbLxDD"
      },
      "source": [
        "# Feauters and Labels"
      ]
    },
    {
      "cell_type": "code",
      "metadata": {
        "colab": {
          "base_uri": "https://localhost:8080/",
          "height": 206
        },
        "id": "10UNQHmmuUwX",
        "outputId": "84ebc06b-2f10-4327-9aca-e026eed293d7"
      },
      "source": [
        "df_feature=train_set[[\"araba-geride\",\"araba-ileride\",\"cene-acik\",\"cene-kapali\",\"devirme-yukarida\",\"devirme-asagida\",\"kaldirici-asagida\",\"kaldirci-yukarida\"]]\n",
        "df_feature.head()"
      ],
      "execution_count": null,
      "outputs": [
        {
          "output_type": "execute_result",
          "data": {
            "text/html": [
              "<div>\n",
              "<style scoped>\n",
              "    .dataframe tbody tr th:only-of-type {\n",
              "        vertical-align: middle;\n",
              "    }\n",
              "\n",
              "    .dataframe tbody tr th {\n",
              "        vertical-align: top;\n",
              "    }\n",
              "\n",
              "    .dataframe thead th {\n",
              "        text-align: right;\n",
              "    }\n",
              "</style>\n",
              "<table border=\"1\" class=\"dataframe\">\n",
              "  <thead>\n",
              "    <tr style=\"text-align: right;\">\n",
              "      <th></th>\n",
              "      <th>araba-geride</th>\n",
              "      <th>araba-ileride</th>\n",
              "      <th>cene-acik</th>\n",
              "      <th>cene-kapali</th>\n",
              "      <th>devirme-yukarida</th>\n",
              "      <th>devirme-asagida</th>\n",
              "      <th>kaldirici-asagida</th>\n",
              "      <th>kaldirci-yukarida</th>\n",
              "    </tr>\n",
              "  </thead>\n",
              "  <tbody>\n",
              "    <tr>\n",
              "      <th>3082</th>\n",
              "      <td>1.0</td>\n",
              "      <td>0.0</td>\n",
              "      <td>0.0</td>\n",
              "      <td>1.0</td>\n",
              "      <td>1.0</td>\n",
              "      <td>0.0</td>\n",
              "      <td>0.0</td>\n",
              "      <td>0.0</td>\n",
              "    </tr>\n",
              "    <tr>\n",
              "      <th>449</th>\n",
              "      <td>1.0</td>\n",
              "      <td>0.0</td>\n",
              "      <td>1.0</td>\n",
              "      <td>0.0</td>\n",
              "      <td>1.0</td>\n",
              "      <td>0.0</td>\n",
              "      <td>0.0</td>\n",
              "      <td>0.0</td>\n",
              "    </tr>\n",
              "    <tr>\n",
              "      <th>8125</th>\n",
              "      <td>0.0</td>\n",
              "      <td>0.0</td>\n",
              "      <td>0.0</td>\n",
              "      <td>1.0</td>\n",
              "      <td>1.0</td>\n",
              "      <td>0.0</td>\n",
              "      <td>1.0</td>\n",
              "      <td>0.0</td>\n",
              "    </tr>\n",
              "    <tr>\n",
              "      <th>8395</th>\n",
              "      <td>0.0</td>\n",
              "      <td>0.0</td>\n",
              "      <td>1.0</td>\n",
              "      <td>0.0</td>\n",
              "      <td>1.0</td>\n",
              "      <td>0.0</td>\n",
              "      <td>1.0</td>\n",
              "      <td>0.0</td>\n",
              "    </tr>\n",
              "    <tr>\n",
              "      <th>7772</th>\n",
              "      <td>1.0</td>\n",
              "      <td>0.0</td>\n",
              "      <td>1.0</td>\n",
              "      <td>0.0</td>\n",
              "      <td>1.0</td>\n",
              "      <td>0.0</td>\n",
              "      <td>0.0</td>\n",
              "      <td>0.0</td>\n",
              "    </tr>\n",
              "  </tbody>\n",
              "</table>\n",
              "</div>"
            ],
            "text/plain": [
              "      araba-geride  araba-ileride  ...  kaldirici-asagida  kaldirci-yukarida\n",
              "3082           1.0            0.0  ...                0.0                0.0\n",
              "449            1.0            0.0  ...                0.0                0.0\n",
              "8125           0.0            0.0  ...                1.0                0.0\n",
              "8395           0.0            0.0  ...                1.0                0.0\n",
              "7772           1.0            0.0  ...                0.0                0.0\n",
              "\n",
              "[5 rows x 8 columns]"
            ]
          },
          "metadata": {},
          "execution_count": 13
        }
      ]
    },
    {
      "cell_type": "code",
      "metadata": {
        "colab": {
          "base_uri": "https://localhost:8080/",
          "height": 206
        },
        "id": "IimFO6VfveXl",
        "outputId": "0993198a-29cd-4525-cc3d-60fabb2090b2"
      },
      "source": [
        "df_labels=train_set.drop([\"SeqNo\",\"UTC Time\",\"araba-geride\",\"araba-ileride\",\"cene-acik\",\"cene-kapali\",\"devirme-yukarida\",\"devirme-asagida\",\"kaldirici-asagida\",\"kaldirci-yukarida\",\"akim\",\"sicaklik\",\"basinc\",\"titresim\"], axis=1)\n",
        "df_labels.head()"
      ],
      "execution_count": null,
      "outputs": [
        {
          "output_type": "execute_result",
          "data": {
            "text/html": [
              "<div>\n",
              "<style scoped>\n",
              "    .dataframe tbody tr th:only-of-type {\n",
              "        vertical-align: middle;\n",
              "    }\n",
              "\n",
              "    .dataframe tbody tr th {\n",
              "        vertical-align: top;\n",
              "    }\n",
              "\n",
              "    .dataframe thead th {\n",
              "        text-align: right;\n",
              "    }\n",
              "</style>\n",
              "<table border=\"1\" class=\"dataframe\">\n",
              "  <thead>\n",
              "    <tr style=\"text-align: right;\">\n",
              "      <th></th>\n",
              "      <th>kaldiriciyukari</th>\n",
              "      <th>kadiriciasagi</th>\n",
              "      <th>arabaileri</th>\n",
              "      <th>arabageri</th>\n",
              "      <th>cenekapa</th>\n",
              "      <th>ceneac</th>\n",
              "      <th>devirmeyukari</th>\n",
              "      <th>devirmeasagi</th>\n",
              "    </tr>\n",
              "  </thead>\n",
              "  <tbody>\n",
              "    <tr>\n",
              "      <th>3082</th>\n",
              "      <td>0.0</td>\n",
              "      <td>1.0</td>\n",
              "      <td>0.0</td>\n",
              "      <td>0.0</td>\n",
              "      <td>0.0</td>\n",
              "      <td>0.0</td>\n",
              "      <td>0.0</td>\n",
              "      <td>0.0</td>\n",
              "    </tr>\n",
              "    <tr>\n",
              "      <th>449</th>\n",
              "      <td>1.0</td>\n",
              "      <td>0.0</td>\n",
              "      <td>0.0</td>\n",
              "      <td>0.0</td>\n",
              "      <td>0.0</td>\n",
              "      <td>0.0</td>\n",
              "      <td>0.0</td>\n",
              "      <td>0.0</td>\n",
              "    </tr>\n",
              "    <tr>\n",
              "      <th>8125</th>\n",
              "      <td>0.0</td>\n",
              "      <td>0.0</td>\n",
              "      <td>1.0</td>\n",
              "      <td>0.0</td>\n",
              "      <td>0.0</td>\n",
              "      <td>0.0</td>\n",
              "      <td>0.0</td>\n",
              "      <td>0.0</td>\n",
              "    </tr>\n",
              "    <tr>\n",
              "      <th>8395</th>\n",
              "      <td>0.0</td>\n",
              "      <td>0.0</td>\n",
              "      <td>0.0</td>\n",
              "      <td>1.0</td>\n",
              "      <td>0.0</td>\n",
              "      <td>0.0</td>\n",
              "      <td>0.0</td>\n",
              "      <td>0.0</td>\n",
              "    </tr>\n",
              "    <tr>\n",
              "      <th>7772</th>\n",
              "      <td>1.0</td>\n",
              "      <td>0.0</td>\n",
              "      <td>0.0</td>\n",
              "      <td>0.0</td>\n",
              "      <td>0.0</td>\n",
              "      <td>0.0</td>\n",
              "      <td>0.0</td>\n",
              "      <td>0.0</td>\n",
              "    </tr>\n",
              "  </tbody>\n",
              "</table>\n",
              "</div>"
            ],
            "text/plain": [
              "      kaldiriciyukari  kadiriciasagi  ...  devirmeyukari  devirmeasagi\n",
              "3082              0.0            1.0  ...            0.0           0.0\n",
              "449               1.0            0.0  ...            0.0           0.0\n",
              "8125              0.0            0.0  ...            0.0           0.0\n",
              "8395              0.0            0.0  ...            0.0           0.0\n",
              "7772              1.0            0.0  ...            0.0           0.0\n",
              "\n",
              "[5 rows x 8 columns]"
            ]
          },
          "metadata": {},
          "execution_count": 14
        }
      ]
    },
    {
      "cell_type": "markdown",
      "metadata": {
        "id": "TctFyp9uL67p"
      },
      "source": [
        "# Numerical and Categorical attribs"
      ]
    },
    {
      "cell_type": "code",
      "metadata": {
        "id": "wqehaWO7wgaS"
      },
      "source": [
        "num_attribs=[\"araba-geride\",\"araba-ileride\",\"cene-acik\",\"cene-kapali\",\"devirme-yukarida\",\"devirme-asagida\",\"kaldirici-asagida\",\"kaldirci-yukarida\"]\n",
        "# cetegorical attribs YOK"
      ],
      "execution_count": null,
      "outputs": []
    },
    {
      "cell_type": "markdown",
      "metadata": {
        "id": "eiWN0bQiMBsR"
      },
      "source": [
        "# Pipline"
      ]
    },
    {
      "cell_type": "code",
      "metadata": {
        "id": "7xKLC0oawTUd"
      },
      "source": [
        "num_pipeline = Pipeline([\n",
        "\n",
        "        ('std_scaler', StandardScaler()),\n",
        "    ])\n",
        "# eksik data olmadigi icin imputer kullanmadim"
      ],
      "execution_count": null,
      "outputs": []
    },
    {
      "cell_type": "code",
      "metadata": {
        "id": "z7XDtA1xwYkU"
      },
      "source": [
        "full_pipeline = ColumnTransformer([\n",
        "        (\"num\", num_pipeline, num_attribs),\n",
        "    ])\n",
        "# categorical data olmadigi icin onhotencoder kullanmadim"
      ],
      "execution_count": null,
      "outputs": []
    },
    {
      "cell_type": "markdown",
      "metadata": {
        "id": "SQduvpX1MJX5"
      },
      "source": [
        "# Features Pipline preprocessed"
      ]
    },
    {
      "cell_type": "code",
      "metadata": {
        "colab": {
          "base_uri": "https://localhost:8080/"
        },
        "id": "bToetGxbwntj",
        "outputId": "4b2ffc3a-546e-451a-be12-69cad7afe7a3"
      },
      "source": [
        "df_feature_preprocessed= full_pipeline.fit_transform(df_feature)\n",
        "print (df_feature_preprocessed[10])"
      ],
      "execution_count": null,
      "outputs": [
        {
          "output_type": "stream",
          "name": "stdout",
          "text": [
            "[-0.94483007 -0.1747121   0.75991104 -0.71207322  0.40184758 -0.22395596\n",
            "  0.68601221 -0.12349817]\n"
          ]
        }
      ]
    },
    {
      "cell_type": "markdown",
      "metadata": {
        "id": "DNWOsuW0K34U"
      },
      "source": [
        "# some data"
      ]
    },
    {
      "cell_type": "code",
      "metadata": {
        "colab": {
          "base_uri": "https://localhost:8080/",
          "height": 424
        },
        "id": "L-9Zfnidw0jj",
        "outputId": "80996b26-ab29-4087-a6cb-8135afbdcc71"
      },
      "source": [
        "some_data = df_feature.iloc[2000:2100]\n",
        "some_labels = df_labels.iloc[2000:2100]\n",
        "some_labels"
      ],
      "execution_count": null,
      "outputs": [
        {
          "output_type": "execute_result",
          "data": {
            "text/html": [
              "<div>\n",
              "<style scoped>\n",
              "    .dataframe tbody tr th:only-of-type {\n",
              "        vertical-align: middle;\n",
              "    }\n",
              "\n",
              "    .dataframe tbody tr th {\n",
              "        vertical-align: top;\n",
              "    }\n",
              "\n",
              "    .dataframe thead th {\n",
              "        text-align: right;\n",
              "    }\n",
              "</style>\n",
              "<table border=\"1\" class=\"dataframe\">\n",
              "  <thead>\n",
              "    <tr style=\"text-align: right;\">\n",
              "      <th></th>\n",
              "      <th>kaldiriciyukari</th>\n",
              "      <th>kadiriciasagi</th>\n",
              "      <th>arabaileri</th>\n",
              "      <th>arabageri</th>\n",
              "      <th>cenekapa</th>\n",
              "      <th>ceneac</th>\n",
              "      <th>devirmeyukari</th>\n",
              "      <th>devirmeasagi</th>\n",
              "    </tr>\n",
              "  </thead>\n",
              "  <tbody>\n",
              "    <tr>\n",
              "      <th>8364</th>\n",
              "      <td>0.0</td>\n",
              "      <td>0.0</td>\n",
              "      <td>0.0</td>\n",
              "      <td>1.0</td>\n",
              "      <td>0.0</td>\n",
              "      <td>0.0</td>\n",
              "      <td>0.0</td>\n",
              "      <td>0.0</td>\n",
              "    </tr>\n",
              "    <tr>\n",
              "      <th>8609</th>\n",
              "      <td>0.0</td>\n",
              "      <td>0.0</td>\n",
              "      <td>0.0</td>\n",
              "      <td>1.0</td>\n",
              "      <td>0.0</td>\n",
              "      <td>0.0</td>\n",
              "      <td>0.0</td>\n",
              "      <td>0.0</td>\n",
              "    </tr>\n",
              "    <tr>\n",
              "      <th>8170</th>\n",
              "      <td>0.0</td>\n",
              "      <td>0.0</td>\n",
              "      <td>1.0</td>\n",
              "      <td>0.0</td>\n",
              "      <td>0.0</td>\n",
              "      <td>0.0</td>\n",
              "      <td>0.0</td>\n",
              "      <td>0.0</td>\n",
              "    </tr>\n",
              "    <tr>\n",
              "      <th>6716</th>\n",
              "      <td>0.0</td>\n",
              "      <td>0.0</td>\n",
              "      <td>1.0</td>\n",
              "      <td>0.0</td>\n",
              "      <td>0.0</td>\n",
              "      <td>0.0</td>\n",
              "      <td>0.0</td>\n",
              "      <td>0.0</td>\n",
              "    </tr>\n",
              "    <tr>\n",
              "      <th>1366</th>\n",
              "      <td>0.0</td>\n",
              "      <td>0.0</td>\n",
              "      <td>1.0</td>\n",
              "      <td>0.0</td>\n",
              "      <td>0.0</td>\n",
              "      <td>0.0</td>\n",
              "      <td>0.0</td>\n",
              "      <td>0.0</td>\n",
              "    </tr>\n",
              "    <tr>\n",
              "      <th>...</th>\n",
              "      <td>...</td>\n",
              "      <td>...</td>\n",
              "      <td>...</td>\n",
              "      <td>...</td>\n",
              "      <td>...</td>\n",
              "      <td>...</td>\n",
              "      <td>...</td>\n",
              "      <td>...</td>\n",
              "    </tr>\n",
              "    <tr>\n",
              "      <th>3805</th>\n",
              "      <td>0.0</td>\n",
              "      <td>0.0</td>\n",
              "      <td>0.0</td>\n",
              "      <td>1.0</td>\n",
              "      <td>0.0</td>\n",
              "      <td>0.0</td>\n",
              "      <td>0.0</td>\n",
              "      <td>0.0</td>\n",
              "    </tr>\n",
              "    <tr>\n",
              "      <th>7214</th>\n",
              "      <td>0.0</td>\n",
              "      <td>0.0</td>\n",
              "      <td>0.0</td>\n",
              "      <td>1.0</td>\n",
              "      <td>0.0</td>\n",
              "      <td>0.0</td>\n",
              "      <td>0.0</td>\n",
              "      <td>0.0</td>\n",
              "    </tr>\n",
              "    <tr>\n",
              "      <th>2654</th>\n",
              "      <td>1.0</td>\n",
              "      <td>0.0</td>\n",
              "      <td>0.0</td>\n",
              "      <td>0.0</td>\n",
              "      <td>0.0</td>\n",
              "      <td>0.0</td>\n",
              "      <td>0.0</td>\n",
              "      <td>0.0</td>\n",
              "    </tr>\n",
              "    <tr>\n",
              "      <th>4112</th>\n",
              "      <td>0.0</td>\n",
              "      <td>0.0</td>\n",
              "      <td>0.0</td>\n",
              "      <td>1.0</td>\n",
              "      <td>0.0</td>\n",
              "      <td>0.0</td>\n",
              "      <td>0.0</td>\n",
              "      <td>0.0</td>\n",
              "    </tr>\n",
              "    <tr>\n",
              "      <th>4078</th>\n",
              "      <td>0.0</td>\n",
              "      <td>0.0</td>\n",
              "      <td>0.0</td>\n",
              "      <td>1.0</td>\n",
              "      <td>0.0</td>\n",
              "      <td>0.0</td>\n",
              "      <td>0.0</td>\n",
              "      <td>0.0</td>\n",
              "    </tr>\n",
              "  </tbody>\n",
              "</table>\n",
              "<p>100 rows × 8 columns</p>\n",
              "</div>"
            ],
            "text/plain": [
              "      kaldiriciyukari  kadiriciasagi  ...  devirmeyukari  devirmeasagi\n",
              "8364              0.0            0.0  ...            0.0           0.0\n",
              "8609              0.0            0.0  ...            0.0           0.0\n",
              "8170              0.0            0.0  ...            0.0           0.0\n",
              "6716              0.0            0.0  ...            0.0           0.0\n",
              "1366              0.0            0.0  ...            0.0           0.0\n",
              "...               ...            ...  ...            ...           ...\n",
              "3805              0.0            0.0  ...            0.0           0.0\n",
              "7214              0.0            0.0  ...            0.0           0.0\n",
              "2654              1.0            0.0  ...            0.0           0.0\n",
              "4112              0.0            0.0  ...            0.0           0.0\n",
              "4078              0.0            0.0  ...            0.0           0.0\n",
              "\n",
              "[100 rows x 8 columns]"
            ]
          },
          "metadata": {},
          "execution_count": 19
        }
      ]
    },
    {
      "cell_type": "markdown",
      "metadata": {
        "id": "i77BbA6zMlAR"
      },
      "source": [
        "## some data pipline preprocessed"
      ]
    },
    {
      "cell_type": "code",
      "metadata": {
        "id": "Qjl02VEnw6Xi",
        "colab": {
          "base_uri": "https://localhost:8080/"
        },
        "outputId": "582c0308-63ab-4966-d18c-e79534d7654d"
      },
      "source": [
        "some_data_prepared = full_pipeline.transform(some_data)\n",
        "some_data_prepared[0]"
      ],
      "execution_count": null,
      "outputs": [
        {
          "output_type": "execute_result",
          "data": {
            "text/plain": [
              "array([-0.94483007, -0.1747121 ,  0.75991104, -0.71207322,  0.40184758,\n",
              "       -0.22395596,  0.68601221, -0.12349817])"
            ]
          },
          "metadata": {},
          "execution_count": 20
        }
      ]
    },
    {
      "cell_type": "markdown",
      "metadata": {
        "id": "z6ISBFdcK73C"
      },
      "source": [
        "# DecisionTreeRegressor"
      ]
    },
    {
      "cell_type": "code",
      "metadata": {
        "colab": {
          "base_uri": "https://localhost:8080/"
        },
        "id": "FOacnV7zw_dD",
        "outputId": "aabcacdd-afaa-474c-f314-36960275f592"
      },
      "source": [
        "from sklearn.tree import DecisionTreeRegressor\n",
        "\n",
        "tree_reg = DecisionTreeRegressor(random_state=42)\n",
        "tree_reg.fit(df_feature_preprocessed, df_labels)"
      ],
      "execution_count": null,
      "outputs": [
        {
          "output_type": "execute_result",
          "data": {
            "text/plain": [
              "DecisionTreeRegressor(ccp_alpha=0.0, criterion='mse', max_depth=None,\n",
              "                      max_features=None, max_leaf_nodes=None,\n",
              "                      min_impurity_decrease=0.0, min_impurity_split=None,\n",
              "                      min_samples_leaf=1, min_samples_split=2,\n",
              "                      min_weight_fraction_leaf=0.0, presort='deprecated',\n",
              "                      random_state=42, splitter='best')"
            ]
          },
          "metadata": {},
          "execution_count": 21
        }
      ]
    },
    {
      "cell_type": "markdown",
      "metadata": {
        "id": "ZeYKJraySgHW"
      },
      "source": [
        "# Some Data Prediction"
      ]
    },
    {
      "cell_type": "code",
      "metadata": {
        "colab": {
          "base_uri": "https://localhost:8080/"
        },
        "id": "CdQWgx2HxFuz",
        "outputId": "3ba9a193-97c0-421b-ab65-da058cea167d"
      },
      "source": [
        "index5=90\n",
        "df1_predictions = tree_reg.predict(some_data_prepared)\n",
        "print(\"Predictions:\", df1_predictions[index5])\n",
        "print(\"\\n\",\"------------------------------------------------\",\"\\n\")\n",
        "print(\"Labels: \\n\", some_labels.iloc[index5])"
      ],
      "execution_count": null,
      "outputs": [
        {
          "output_type": "stream",
          "name": "stdout",
          "text": [
            "Predictions: [1. 0. 0. 0. 0. 0. 0. 0.]\n",
            "\n",
            " ------------------------------------------------ \n",
            "\n",
            "Labels: \n",
            " kaldiriciyukari    1.0\n",
            "kadiriciasagi      0.0\n",
            "arabaileri         0.0\n",
            "arabageri          0.0\n",
            "cenekapa           0.0\n",
            "ceneac             0.0\n",
            "devirmeyukari      0.0\n",
            "devirmeasagi       0.0\n",
            "Name: 7703, dtype: float64\n"
          ]
        }
      ]
    },
    {
      "cell_type": "markdown",
      "metadata": {
        "id": "lcfYiQGaS4_c"
      },
      "source": [
        "# DecisionTreeRegressor Root Mean Square Error"
      ]
    },
    {
      "cell_type": "markdown",
      "metadata": {
        "id": "FMZZ81N5TPIt"
      },
      "source": [
        "## DecisionTreeRegressor full Train data prediction"
      ]
    },
    {
      "cell_type": "code",
      "metadata": {
        "id": "4L6fr97SzgV9"
      },
      "source": [
        "df1_predictions = tree_reg.predict(df_feature_preprocessed)"
      ],
      "execution_count": null,
      "outputs": []
    },
    {
      "cell_type": "markdown",
      "metadata": {
        "id": "NT-YnfmBTeS1"
      },
      "source": [
        "## Root Mean Square Error"
      ]
    },
    {
      "cell_type": "code",
      "metadata": {
        "id": "s5mUm_Khzggn"
      },
      "source": [
        "tree_mse = mean_squared_error(df_labels, df1_predictions)"
      ],
      "execution_count": null,
      "outputs": []
    },
    {
      "cell_type": "code",
      "metadata": {
        "colab": {
          "base_uri": "https://localhost:8080/"
        },
        "id": "iRUNR3YSzlD2",
        "outputId": "d5038696-6964-41c4-ce24-3433d07f9292"
      },
      "source": [
        "tree_rmse = np.sqrt(tree_mse)\n",
        "print(\"DecisionTreeRegressor_rmse : \",tree_rmse)"
      ],
      "execution_count": null,
      "outputs": [
        {
          "output_type": "stream",
          "name": "stdout",
          "text": [
            "DecisionTreeRegressor_rmse :  0.08478792350235552\n"
          ]
        }
      ]
    }
  ]
}